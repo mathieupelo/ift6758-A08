{
 "cells": [
  {
   "cell_type": "markdown",
   "metadata": {
    "collapsed": false
   },
   "source": [
    "# Imports"
   ]
  },
  {
   "cell_type": "code",
   "execution_count": 2,
   "metadata": {
    "ExecuteTime": {
     "end_time": "2023-10-12T21:41:04.804569700Z",
     "start_time": "2023-10-12T21:41:03.669702100Z"
    },
    "collapsed": true
   },
   "outputs": [
    {
     "ename": "ModuleNotFoundError",
     "evalue": "No module named 'notebooks'",
     "output_type": "error",
     "traceback": [
      "\u001b[0;31m---------------------------------------------------------------------------\u001b[0m",
      "\u001b[0;31mModuleNotFoundError\u001b[0m                       Traceback (most recent call last)",
      "\u001b[1;32m/Users/mepicard/Desktop/PhD/IFT6758/ift6758-A08/notebooks/full_pipeline.ipynb Cell 2\u001b[0m line \u001b[0;36m<cell line: 1>\u001b[0;34m()\u001b[0m\n\u001b[0;32m----> <a href='vscode-notebook-cell:/Users/mepicard/Desktop/PhD/IFT6758/ift6758-A08/notebooks/full_pipeline.ipynb#W6sZmlsZQ%3D%3D?line=0'>1</a>\u001b[0m \u001b[39mfrom\u001b[39;00m \u001b[39mnotebooks\u001b[39;00m\u001b[39m.\u001b[39;00m\u001b[39mdata_collection\u001b[39;00m \u001b[39mimport\u001b[39;00m \u001b[39m*\u001b[39m\n\u001b[1;32m      <a href='vscode-notebook-cell:/Users/mepicard/Desktop/PhD/IFT6758/ift6758-A08/notebooks/full_pipeline.ipynb#W6sZmlsZQ%3D%3D?line=1'>2</a>\u001b[0m \u001b[39mfrom\u001b[39;00m \u001b[39mnotebooks\u001b[39;00m\u001b[39m.\u001b[39;00m\u001b[39mdata_cleaning\u001b[39;00m \u001b[39mimport\u001b[39;00m \u001b[39m*\u001b[39m\n",
      "\u001b[0;31mModuleNotFoundError\u001b[0m: No module named 'notebooks'"
     ]
    }
   ],
   "source": [
    "from notebooks.data_collection import *\n",
    "from notebooks.data_cleaning import *"
   ]
  },
  {
   "cell_type": "markdown",
   "metadata": {
    "collapsed": false
   },
   "source": [
    "# Collecting Data"
   ]
  },
  {
   "cell_type": "code",
   "execution_count": 2,
   "metadata": {
    "ExecuteTime": {
     "end_time": "2023-10-12T21:41:04.819220100Z",
     "start_time": "2023-10-12T21:41:04.804569700Z"
    },
    "collapsed": false
   },
   "outputs": [
    {
     "name": "stdout",
     "output_type": "stream",
     "text": [
      "The file '../ift6758/data/data_saison_2016_2017_play_by_play.json' already exists.\n",
      "The file '../ift6758/data/data_saison_2017_2018_play_by_play.json' already exists.\n",
      "The file '../ift6758/data/data_saison_2018_2019_play_by_play.json' already exists.\n",
      "The file '../ift6758/data/data_saison_2019_2020_play_by_play.json' already exists.\n",
      "The file '../ift6758/data/data_saison_2020_2021_play_by_play.json' already exists.\n",
      "The file '../ift6758/data/data_total_play_by_play.json' already exists.\n"
     ]
    }
   ],
   "source": [
    "collect_data()"
   ]
  },
  {
   "cell_type": "markdown",
   "metadata": {
    "collapsed": false
   },
   "source": [
    "# Cleaning Data"
   ]
  },
  {
   "cell_type": "markdown",
   "metadata": {
    "collapsed": false
   },
   "source": []
  },
  {
   "cell_type": "code",
   "execution_count": 3,
   "metadata": {
    "ExecuteTime": {
     "end_time": "2023-10-12T21:41:47.563687900Z",
     "start_time": "2023-10-12T21:41:07.450289900Z"
    },
    "collapsed": false
   },
   "outputs": [
    {
     "name": "stdout",
     "output_type": "stream",
     "text": [
      "The file ../ift6758/data_clean/eventdf_clean.csv already exists.\n",
      "The file ../ift6758/data_clean/faceoffdf_clean.csv already exists.\n",
      "The file ../ift6758/data_clean/playerdf_clean.csv already exists.\n",
      "The file ../ift6758/data_clean/shootdf_clean.csv already exists.\n",
      "The file ../ift6758/data_clean/takeawaydf_clean.csv already exists.\n"
     ]
    }
   ],
   "source": [
    "json_path = \"../ift6758/data/data_total_play_by_play.json\"\n",
    "\n",
    "data = pd.read_json(json_path)\n",
    "\n",
    "create_event_df(data)\n",
    "create_faceoff_df(data)\n",
    "create_player_df(data)\n",
    "create_shoot_df(data)\n",
    "create_takeaway_df(data)"
   ]
  }
 ],
 "metadata": {
  "kernelspec": {
   "display_name": "Python 3",
   "language": "python",
   "name": "python3"
  },
  "language_info": {
   "codemirror_mode": {
    "name": "ipython",
    "version": 3
   },
   "file_extension": ".py",
   "mimetype": "text/x-python",
   "name": "python",
   "nbconvert_exporter": "python",
   "pygments_lexer": "ipython3",
   "version": "3.9.12"
  }
 },
 "nbformat": 4,
 "nbformat_minor": 0
}
