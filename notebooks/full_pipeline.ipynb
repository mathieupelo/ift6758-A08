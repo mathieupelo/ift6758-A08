{
 "cells": [
  {
   "cell_type": "markdown",
   "metadata": {
    "collapsed": false
   },
   "source": [
    "# 0. Imports"
   ]
  },
  {
   "cell_type": "code",
   "execution_count": 2,
   "metadata": {
    "ExecuteTime": {
     "end_time": "2023-10-12T21:41:04.804569700Z",
     "start_time": "2023-10-12T21:41:03.669702100Z"
    }
   },
   "outputs": [],
   "source": [
    "import sys\n",
    "import os\n",
    "import pandas as pd\n",
    "\n",
    "current_dir = os.path.abspath(os.getcwd())\n",
    "parent_dir = os.path.dirname(current_dir)\n",
    "sys.path.append(os.path.join(parent_dir, 'scripts'))\n",
    "\n",
    "import data_acquisition\n",
    "import Dataframe\n",
    "import feature_engineering\n",
    "import Dataframe_milestone_2\n"
   ]
  },
  {
   "cell_type": "markdown",
   "metadata": {
    "collapsed": false
   },
   "source": [
    "# 1. Collecting Data"
   ]
  },
  {
   "cell_type": "code",
   "execution_count": 3,
   "metadata": {
    "ExecuteTime": {
     "end_time": "2023-10-12T21:41:04.819220100Z",
     "start_time": "2023-10-12T21:41:04.804569700Z"
    },
    "collapsed": false
   },
   "outputs": [
    {
     "name": "stdout",
     "output_type": "stream",
     "text": [
      "The folder '../data/raw/2016_2017' already exists.\n",
      "The folder '../data/raw/2017_2018' already exists.\n",
      "The folder '../data/raw/2018_2019' already exists.\n",
      "The folder '../data/raw/2019_2020' already exists.\n",
      "The folder '../data/raw/2020_2021' already exists.\n"
     ]
    }
   ],
   "source": [
    "data_acquisition.collect_data()"
   ]
  },
  {
   "cell_type": "markdown",
   "metadata": {
    "collapsed": false
   },
   "source": [
    "# 2. Cleaning Data"
   ]
  },
  {
   "cell_type": "code",
   "execution_count": 4,
   "metadata": {
    "ExecuteTime": {
     "end_time": "2023-10-12T21:41:47.563687900Z",
     "start_time": "2023-10-12T21:41:07.450289900Z"
    },
    "collapsed": false
   },
   "outputs": [
    {
     "name": "stderr",
     "output_type": "stream",
     "text": [
      "Seasons: 100%|██████████| 5/5 [02:37<00:00, 31.42s/it]\n"
     ]
    }
   ],
   "source": [
    "## environ 2 minutes\n",
    "\n",
    "base_path = '../data/raw/'\n",
    "df = Dataframe.load_all_seasons(base_path)\n",
    "transformed_df = Dataframe.transformEventData(df)"
   ]
  },
  {
   "cell_type": "markdown",
   "metadata": {},
   "source": [
    "## Ingénierie des caractéristiques 1"
   ]
  },
  {
   "cell_type": "code",
   "execution_count": 5,
   "metadata": {},
   "outputs": [],
   "source": [
    "# Charger les données\n",
    "data = pd.read_csv('../data/derivatives/dataframe.csv')\n",
    "# Créer les nouvelles caractéristiques\n",
    "feature_engineering.create_features1(data, '^201[6-9]02\\d{4}$', 'features_train1.csv')"
   ]
  },
  {
   "cell_type": "markdown",
   "metadata": {},
   "source": [
    "## Ingénierie des caractéristiques 2"
   ]
  },
  {
   "cell_type": "code",
   "execution_count": 6,
   "metadata": {},
   "outputs": [
    {
     "name": "stderr",
     "output_type": "stream",
     "text": [
      "Seasons: 100%|██████████| 5/5 [02:53<00:00, 34.70s/it]\n"
     ]
    }
   ],
   "source": [
    "## environ 7 minutes\n",
    "\n",
    "base_path = '../data/raw/'\n",
    "df = Dataframe_milestone_2.load_all_seasons(base_path)\n",
    "transformed_df = Dataframe_milestone_2.transformEventData(df)"
   ]
  },
  {
   "cell_type": "code",
   "execution_count": 7,
   "metadata": {},
   "outputs": [
    {
     "name": "stderr",
     "output_type": "stream",
     "text": [
      "c:\\Users\\lebou\\Desktop\\Cours_Canada\\Data_science_IFT6758\\project_nhl_data\\ift6758-A08\\scripts\\feature_engineering.py:57: RuntimeWarning: divide by zero encountered in scalar divide\n",
      "  angle = np.arctan((y_goal - y)/(x_goal - np.abs(x)))\n",
      "c:\\Users\\lebou\\Desktop\\Cours_Canada\\Data_science_IFT6758\\project_nhl_data\\ift6758-A08\\scripts\\feature_engineering.py:57: RuntimeWarning: invalid value encountered in scalar divide\n",
      "  angle = np.arctan((y_goal - y)/(x_goal - np.abs(x)))\n"
     ]
    }
   ],
   "source": [
    "Dataframe = pd.read_csv('../data/derivatives/dataframe_milestone_2.csv')\n",
    "data = feature_engineering.create_features2(Dataframe, pattern=None)\n",
    "data.to_csv('../data/derivatives/dataframe_milestone_2.csv', index=False)"
   ]
  },
  {
   "cell_type": "code",
   "execution_count": 8,
   "metadata": {},
   "outputs": [],
   "source": [
    "# Séparation en un jeu de d'entrainement/test\n",
    "\n",
    "# Filtre pour les saisons 2016/2017 et 2018/2019\n",
    "train_data = data[(data['gameId'].astype(str).str.startswith('2016')) |\n",
    "                  (data['gameId'].astype(str).str.startswith('2018'))]\n",
    "\n",
    "# Filtre pour la saison 2019/2020\n",
    "test_data = data[data['gameId'].astype(str).str.startswith('2019')]\n",
    "\n",
    "train_data.to_csv('../data/derivatives/train_data.csv', index=False)\n",
    "test_data.to_csv('../data/derivatives/test_data.csv', index=False)"
   ]
  }
 ],
 "metadata": {
  "kernelspec": {
   "display_name": "Python 3 (ipykernel)",
   "language": "python",
   "name": "python3"
  },
  "language_info": {
   "codemirror_mode": {
    "name": "ipython",
    "version": 3
   },
   "file_extension": ".py",
   "mimetype": "text/x-python",
   "name": "python",
   "nbconvert_exporter": "python",
   "pygments_lexer": "ipython3",
   "version": "3.10.11"
  }
 },
 "nbformat": 4,
 "nbformat_minor": 4
}
