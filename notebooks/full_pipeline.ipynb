{
 "cells": [
  {
   "cell_type": "markdown",
   "metadata": {
    "collapsed": false
   },
   "source": [
    "# Imports"
   ]
  },
  {
   "cell_type": "code",
   "execution_count": 10,
   "metadata": {
    "ExecuteTime": {
     "end_time": "2023-10-12T21:41:04.804569700Z",
     "start_time": "2023-10-12T21:41:03.669702100Z"
    },
    "collapsed": true
   },
   "outputs": [],
   "source": [
    "import sys\n",
    "import os\n",
    "\n",
    "# Récupérer le chemin du répertoire courant où le notebook est situé\n",
    "current_dir = os.path.abspath(os.getcwd())\n",
    "\n",
    "# Récupérer le chemin du répertoire parent (qui devrait contenir à la fois 'notebooks' et 'scripts')\n",
    "parent_dir = os.path.dirname(current_dir)\n",
    "\n",
    "# Ajouter le répertoire 'scripts' à sys.path\n",
    "sys.path.append(os.path.join(parent_dir, 'scripts'))\n",
    "\n",
    "# Maintenant, vous devriez être en mesure d'importer data_acquisition\n",
    "import data_acquisition\n",
    "import Dataframe\n"
   ]
  },
  {
   "cell_type": "markdown",
   "metadata": {
    "collapsed": false
   },
   "source": [
    "# Collecting Data"
   ]
  },
  {
   "cell_type": "code",
   "execution_count": 3,
   "metadata": {
    "ExecuteTime": {
     "end_time": "2023-10-12T21:41:04.819220100Z",
     "start_time": "2023-10-12T21:41:04.804569700Z"
    },
    "collapsed": false
   },
   "outputs": [
    {
     "name": "stdout",
     "output_type": "stream",
     "text": [
      "fetching data for 2016_2017 ..\n"
     ]
    },
    {
     "name": "stderr",
     "output_type": "stream",
     "text": [
      "Fetching game data for 2016-2017 Season:   0%|          | 0/1335 [00:00<?, ?it/s]"
     ]
    },
    {
     "name": "stderr",
     "output_type": "stream",
     "text": [
      "Fetching game data for 2016-2017 Season: 100%|██████████| 1335/1335 [01:58<00:00, 11.29it/s]\n"
     ]
    },
    {
     "name": "stdout",
     "output_type": "stream",
     "text": [
      "saving data for 2016_2017 ..\n",
      "The folder '../data/raw/2017_2018' already exists.\n",
      "The folder '../data/raw/2018_2019' already exists.\n",
      "The folder '../data/raw/2019_2020' already exists.\n",
      "The folder '../data/raw/2020_2021' already exists.\n"
     ]
    }
   ],
   "source": [
    "data_acquisition.collect_data()"
   ]
  },
  {
   "cell_type": "markdown",
   "metadata": {
    "collapsed": false
   },
   "source": [
    "# Cleaning Data"
   ]
  },
  {
   "cell_type": "markdown",
   "metadata": {
    "collapsed": false
   },
   "source": []
  },
  {
   "cell_type": "code",
   "execution_count": 1,
   "metadata": {
    "ExecuteTime": {
     "end_time": "2023-10-12T21:41:47.563687900Z",
     "start_time": "2023-10-12T21:41:07.450289900Z"
    },
    "collapsed": false
   },
   "outputs": [
    {
     "ename": "NameError",
     "evalue": "name 'Dataframe' is not defined",
     "output_type": "error",
     "traceback": [
      "\u001b[1;31m---------------------------------------------------------------------------\u001b[0m",
      "\u001b[1;31mNameError\u001b[0m                                 Traceback (most recent call last)",
      "\u001b[1;32mc:\\Users\\lebou\\Desktop\\Cours_Canada\\Data_science_IFT6758\\project_nhl_data\\ift6758-A08\\notebooks\\full_pipeline.ipynb Cellule 7\u001b[0m line \u001b[0;36m2\n\u001b[0;32m      <a href='vscode-notebook-cell:/c%3A/Users/lebou/Desktop/Cours_Canada/Data_science_IFT6758/project_nhl_data/ift6758-A08/notebooks/full_pipeline.ipynb#W6sZmlsZQ%3D%3D?line=0'>1</a>\u001b[0m base_path \u001b[39m=\u001b[39m \u001b[39m'\u001b[39m\u001b[39m../data/raw/\u001b[39m\u001b[39m'\u001b[39m\n\u001b[1;32m----> <a href='vscode-notebook-cell:/c%3A/Users/lebou/Desktop/Cours_Canada/Data_science_IFT6758/project_nhl_data/ift6758-A08/notebooks/full_pipeline.ipynb#W6sZmlsZQ%3D%3D?line=1'>2</a>\u001b[0m df \u001b[39m=\u001b[39m Dataframe\u001b[39m.\u001b[39mload_all_seasons(base_path)\n\u001b[0;32m      <a href='vscode-notebook-cell:/c%3A/Users/lebou/Desktop/Cours_Canada/Data_science_IFT6758/project_nhl_data/ift6758-A08/notebooks/full_pipeline.ipynb#W6sZmlsZQ%3D%3D?line=2'>3</a>\u001b[0m transformed_df \u001b[39m=\u001b[39m Dataframe\u001b[39m.\u001b[39mtransformEventData(df)\n",
      "\u001b[1;31mNameError\u001b[0m: name 'Dataframe' is not defined"
     ]
    }
   ],
   "source": [
    "base_path = '../data/raw/'\n",
    "df = Dataframe.load_all_seasons(base_path)\n",
    "transformed_df = Dataframe.transformEventData(df)"
   ]
  }
 ],
 "metadata": {
  "kernelspec": {
   "display_name": "Python 3",
   "language": "python",
   "name": "python3"
  },
  "language_info": {
   "codemirror_mode": {
    "name": "ipython",
    "version": 3
   },
   "file_extension": ".py",
   "mimetype": "text/x-python",
   "name": "python",
   "nbconvert_exporter": "python",
   "pygments_lexer": "ipython3",
   "version": "3.10.11"
  }
 },
 "nbformat": 4,
 "nbformat_minor": 0
}
