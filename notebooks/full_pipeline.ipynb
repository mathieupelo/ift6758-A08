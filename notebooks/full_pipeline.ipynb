{
 "cells": [
  {
   "cell_type": "markdown",
   "metadata": {
    "collapsed": false
   },
   "source": [
    "# Imports"
   ]
  },
  {
   "cell_type": "code",
   "execution_count": 2,
   "metadata": {
    "ExecuteTime": {
     "end_time": "2023-10-12T21:41:04.804569700Z",
     "start_time": "2023-10-12T21:41:03.669702100Z"
    },
    "collapsed": true
   },
   "outputs": [],
   "source": [
    "import sys\n",
    "import os\n",
    "\n",
    "current_dir = os.path.abspath(os.getcwd())\n",
    "parent_dir = os.path.dirname(current_dir)\n",
    "sys.path.append(os.path.join(parent_dir, 'scripts'))\n",
    "\n",
    "import data_acquisition\n",
    "import Dataframe\n"
   ]
  },
  {
   "cell_type": "markdown",
   "metadata": {
    "collapsed": false
   },
   "source": [
    "# Collecting Data"
   ]
  },
  {
   "cell_type": "code",
   "execution_count": 3,
   "metadata": {
    "ExecuteTime": {
     "end_time": "2023-10-12T21:41:04.819220100Z",
     "start_time": "2023-10-12T21:41:04.804569700Z"
    },
    "collapsed": false
   },
   "outputs": [
    {
     "name": "stdout",
     "output_type": "stream",
     "text": [
      "fetching data for 2016_2017 ..\n"
     ]
    },
    {
     "name": "stderr",
     "output_type": "stream",
     "text": [
      "Fetching game data for 2016-2017 Season:   0%|          | 0/1335 [00:00<?, ?it/s]"
     ]
    },
    {
     "name": "stderr",
     "output_type": "stream",
     "text": [
      "Fetching game data for 2016-2017 Season: 100%|██████████| 1335/1335 [01:58<00:00, 11.29it/s]\n"
     ]
    },
    {
     "name": "stdout",
     "output_type": "stream",
     "text": [
      "saving data for 2016_2017 ..\n",
      "The folder '../data/raw/2017_2018' already exists.\n",
      "The folder '../data/raw/2018_2019' already exists.\n",
      "The folder '../data/raw/2019_2020' already exists.\n",
      "The folder '../data/raw/2020_2021' already exists.\n"
     ]
    }
   ],
   "source": [
    "data_acquisition.collect_data()"
   ]
  },
  {
   "cell_type": "markdown",
   "metadata": {
    "collapsed": false
   },
   "source": [
    "# Cleaning Data"
   ]
  },
  {
   "cell_type": "markdown",
   "metadata": {
    "collapsed": false
   },
   "source": []
  },
  {
   "cell_type": "code",
   "execution_count": 3,
   "metadata": {
    "ExecuteTime": {
     "end_time": "2023-10-12T21:41:47.563687900Z",
     "start_time": "2023-10-12T21:41:07.450289900Z"
    },
    "collapsed": false
   },
   "outputs": [
    {
     "name": "stderr",
     "output_type": "stream",
     "text": [
      "Seasons: 100%|██████████| 5/5 [02:25<00:00, 29.08s/it]\n"
     ]
    }
   ],
   "source": [
    "base_path = '../data/raw/'\n",
    "df = Dataframe.load_all_seasons(base_path)\n",
    "transformed_df = Dataframe.transformEventData(df)"
   ]
  }
 ],
 "metadata": {
  "kernelspec": {
   "display_name": "Python 3",
   "language": "python",
   "name": "python3"
  },
  "language_info": {
   "codemirror_mode": {
    "name": "ipython",
    "version": 3
   },
   "file_extension": ".py",
   "mimetype": "text/x-python",
   "name": "python",
   "nbconvert_exporter": "python",
   "pygments_lexer": "ipython3",
   "version": "3.10.11"
  }
 },
 "nbformat": 4,
 "nbformat_minor": 0
}
