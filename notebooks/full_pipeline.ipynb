{
 "cells": [
  {
   "cell_type": "markdown",
   "source": [
    "# Imports"
   ],
   "metadata": {
    "collapsed": false
   }
  },
  {
   "cell_type": "code",
   "execution_count": 1,
   "metadata": {
    "collapsed": true,
    "ExecuteTime": {
     "end_time": "2023-10-12T21:41:04.804569700Z",
     "start_time": "2023-10-12T21:41:03.669702100Z"
    }
   },
   "outputs": [],
   "source": [
    "from notebooks.data_collection import *\n",
    "from notebooks.data_cleaning import *"
   ]
  },
  {
   "cell_type": "markdown",
   "source": [
    "# Collecting Data"
   ],
   "metadata": {
    "collapsed": false
   }
  },
  {
   "cell_type": "code",
   "execution_count": 2,
   "outputs": [
    {
     "name": "stdout",
     "output_type": "stream",
     "text": [
      "The file '../ift6758/data/data_saison_2016_2017_play_by_play.json' already exists.\n",
      "The file '../ift6758/data/data_saison_2017_2018_play_by_play.json' already exists.\n",
      "The file '../ift6758/data/data_saison_2018_2019_play_by_play.json' already exists.\n",
      "The file '../ift6758/data/data_saison_2019_2020_play_by_play.json' already exists.\n",
      "The file '../ift6758/data/data_saison_2020_2021_play_by_play.json' already exists.\n",
      "The file '../ift6758/data/data_total_play_by_play.json' already exists.\n"
     ]
    }
   ],
   "source": [
    "collect_data()"
   ],
   "metadata": {
    "collapsed": false,
    "ExecuteTime": {
     "end_time": "2023-10-12T21:41:04.819220100Z",
     "start_time": "2023-10-12T21:41:04.804569700Z"
    }
   }
  },
  {
   "cell_type": "markdown",
   "source": [
    "# Cleaning Data"
   ],
   "metadata": {
    "collapsed": false
   }
  },
  {
   "cell_type": "markdown",
   "source": [],
   "metadata": {
    "collapsed": false
   }
  },
  {
   "cell_type": "code",
   "execution_count": 3,
   "outputs": [
    {
     "name": "stdout",
     "output_type": "stream",
     "text": [
      "The file ../ift6758/data_clean/eventdf_clean.csv already exists.\n",
      "The file ../ift6758/data_clean/faceoffdf_clean.csv already exists.\n",
      "The file ../ift6758/data_clean/playerdf_clean.csv already exists.\n",
      "The file ../ift6758/data_clean/shootdf_clean.csv already exists.\n",
      "The file ../ift6758/data_clean/takeawaydf_clean.csv already exists.\n"
     ]
    }
   ],
   "source": [
    "json_path = \"../ift6758/data/data_total_play_by_play.json\"\n",
    "\n",
    "data = pd.read_json(json_path)\n",
    "\n",
    "create_event_df(data)\n",
    "create_faceoff_df(data)\n",
    "create_player_df(data)\n",
    "create_shoot_df(data)\n",
    "create_takeaway_df(data)"
   ],
   "metadata": {
    "collapsed": false,
    "ExecuteTime": {
     "end_time": "2023-10-12T21:41:47.563687900Z",
     "start_time": "2023-10-12T21:41:07.450289900Z"
    }
   }
  },
  {
   "cell_type": "markdown",
   "source": [],
   "metadata": {
    "collapsed": false
   }
  }
 ],
 "metadata": {
  "kernelspec": {
   "display_name": "Python 3",
   "language": "python",
   "name": "python3"
  },
  "language_info": {
   "codemirror_mode": {
    "name": "ipython",
    "version": 2
   },
   "file_extension": ".py",
   "mimetype": "text/x-python",
   "name": "python",
   "nbconvert_exporter": "python",
   "pygments_lexer": "ipython2",
   "version": "2.7.6"
  }
 },
 "nbformat": 4,
 "nbformat_minor": 0
}
