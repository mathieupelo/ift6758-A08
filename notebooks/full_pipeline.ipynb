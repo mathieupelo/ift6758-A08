{
 "cells": [
  {
   "cell_type": "markdown",
   "source": [
    "# Imports"
   ],
   "metadata": {
    "collapsed": false
   }
  },
  {
   "cell_type": "code",
   "execution_count": 19,
   "metadata": {
    "collapsed": true,
    "ExecuteTime": {
     "end_time": "2023-10-12T21:25:41.531467500Z",
     "start_time": "2023-10-12T21:25:41.505858800Z"
    }
   },
   "outputs": [],
   "source": [
    "from notebooks.data_collection import *\n",
    "from notebooks.data_cleaning import *"
   ]
  },
  {
   "cell_type": "markdown",
   "source": [
    "# Collecting Data"
   ],
   "metadata": {
    "collapsed": false
   }
  },
  {
   "cell_type": "code",
   "execution_count": 26,
   "outputs": [
    {
     "name": "stdout",
     "output_type": "stream",
     "text": [
      "The file '../ift6758/data/data_saison_2016_2017_play_by_play.json' already exists.\n",
      "The file '../ift6758/data/data_saison_2017_2018_play_by_play.json' already exists.\n",
      "The file '../ift6758/data/data_saison_2018_2019_play_by_play.json' already exists.\n",
      "The file '../ift6758/data/data_saison_2019_2020_play_by_play.json' already exists.\n",
      "The file '../ift6758/data/data_saison_2020_2021_play_by_play.json' already exists.\n",
      "The file '../ift6758/data/data_total_play_by_play.json' already exists.\n"
     ]
    },
    {
     "ename": "NameError",
     "evalue": "name 'clean_data' is not defined",
     "output_type": "error",
     "traceback": [
      "\u001B[1;31m---------------------------------------------------------------------------\u001B[0m",
      "\u001B[1;31mNameError\u001B[0m                                 Traceback (most recent call last)",
      "Cell \u001B[1;32mIn[26], line 2\u001B[0m\n\u001B[0;32m      1\u001B[0m collect_data()\n\u001B[1;32m----> 2\u001B[0m \u001B[43mclean_data\u001B[49m()\n",
      "\u001B[1;31mNameError\u001B[0m: name 'clean_data' is not defined"
     ]
    }
   ],
   "source": [
    "collect_data()"
   ],
   "metadata": {
    "collapsed": false,
    "ExecuteTime": {
     "end_time": "2023-10-12T21:27:57.026534900Z",
     "start_time": "2023-10-12T21:27:56.991836100Z"
    }
   }
  },
  {
   "cell_type": "markdown",
   "source": [
    "# Cleaning Data"
   ],
   "metadata": {
    "collapsed": false
   }
  },
  {
   "cell_type": "code",
   "execution_count": 29,
   "outputs": [
    {
     "ename": "NameError",
     "evalue": "name 'clean_data' is not defined",
     "output_type": "error",
     "traceback": [
      "\u001B[1;31m---------------------------------------------------------------------------\u001B[0m",
      "\u001B[1;31mNameError\u001B[0m                                 Traceback (most recent call last)",
      "Cell \u001B[1;32mIn[29], line 2\u001B[0m\n\u001B[0;32m      1\u001B[0m \u001B[38;5;28;01mfrom\u001B[39;00m \u001B[38;5;21;01mnotebooks\u001B[39;00m\u001B[38;5;21;01m.\u001B[39;00m\u001B[38;5;21;01mdata_cleaning\u001B[39;00m \u001B[38;5;28;01mimport\u001B[39;00m \u001B[38;5;241m*\u001B[39m\n\u001B[1;32m----> 2\u001B[0m \u001B[43mclean_data\u001B[49m()\n",
      "\u001B[1;31mNameError\u001B[0m: name 'clean_data' is not defined"
     ]
    }
   ],
   "source": [
    "from notebooks.data_cleaning import *\n",
    "clean_data()\n"
   ],
   "metadata": {
    "collapsed": false,
    "ExecuteTime": {
     "end_time": "2023-10-12T21:31:10.837877200Z",
     "start_time": "2023-10-12T21:31:10.822497700Z"
    }
   }
  }
 ],
 "metadata": {
  "kernelspec": {
   "display_name": "Python 3",
   "language": "python",
   "name": "python3"
  },
  "language_info": {
   "codemirror_mode": {
    "name": "ipython",
    "version": 2
   },
   "file_extension": ".py",
   "mimetype": "text/x-python",
   "name": "python",
   "nbconvert_exporter": "python",
   "pygments_lexer": "ipython2",
   "version": "2.7.6"
  }
 },
 "nbformat": 4,
 "nbformat_minor": 0
}
