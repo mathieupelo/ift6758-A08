{
 "cells": [
  {
   "cell_type": "markdown",
   "metadata": {},
   "source": [
    "# Outil de débogage interactif\n",
    "\n",
    "**Description**\n",
    "\n",
    "Ce notebook offre un outil interactif (widget) pour visualiser les évènements des matchs répertoriés par saison."
   ]
  },
  {
   "cell_type": "code",
   "execution_count": 1,
   "metadata": {},
   "outputs": [],
   "source": [
    "import ipywidgets as widgets\n",
    "from ipywidgets import interact\n",
    "import matplotlib.pyplot as plt\n",
    "import json"
   ]
  },
  {
   "cell_type": "code",
   "execution_count": null,
   "metadata": {},
   "outputs": [],
   "source": [
    "@interact\n",
    "def interactive_debugger(season=['2016_2017', '2017_2018', '2018_2019', '2019_2020', '2020_2021'], season_type=['regular', 'playoff'], game_id=[], event=[]):\n",
    "    \"\"\"\n",
    "    season: str\n",
    "        Season to visualize. \n",
    "    season_type: str\n",
    "        Season type to visualize. Can be `reguliere` or `eliminatoire`.\n",
    "    game_id: str or int ?\n",
    "        ID of the game to visualize.\n",
    "    event: str or int ?\n",
    "        Event number to visualize within the specified game.\n",
    "    \"\"\"\n",
    "    # TODO\n",
    "    info = json.load(open(f'../data/data_{season}_play_by_play.json'))\n",
    "    "
   ]
  }
 ],
 "metadata": {
  "kernelspec": {
   "display_name": "Python 3",
   "language": "python",
   "name": "python3"
  },
  "language_info": {
   "codemirror_mode": {
    "name": "ipython",
    "version": 3
   },
   "file_extension": ".py",
   "mimetype": "text/x-python",
   "name": "python",
   "nbconvert_exporter": "python",
   "pygments_lexer": "ipython3",
   "version": "3.9.12"
  },
  "orig_nbformat": 4
 },
 "nbformat": 4,
 "nbformat_minor": 2
}
