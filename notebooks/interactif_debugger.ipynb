{
 "cells": [
  {
   "cell_type": "markdown",
   "metadata": {},
   "source": [
    "# Outil de débogage interactif\n",
    "\n",
    "**Description**\n",
    "\n",
    "Ce notebook offre un outil interactif (widget) pour visualiser les évènements des matchs répertoriés par saison.\n"
   ]
  },
  {
   "cell_type": "code",
   "execution_count": 70,
   "metadata": {},
   "outputs": [],
   "source": [
    "import ipywidgets as widgets\n",
    "from ipywidgets import interact\n",
    "import matplotlib.pyplot as plt\n",
    "import json\n",
    "import pprint\n",
    "import glob\n",
    "from tabulate import tabulate"
   ]
  },
  {
   "cell_type": "code",
   "execution_count": 171,
   "metadata": {},
   "outputs": [],
   "source": [
    "def plotting_coordinates(info, nb_events, team_away, team_home):\n",
    "    @interact\n",
    "    def interact_event(eventIdx = (0, nb_events-1, 1)):\n",
    "        # Retrieve coord for specified `event` in `game_id`\n",
    "        coord = info['liveData']['plays']['allPlays'][eventIdx]['coordinates']\n",
    "        # Retrieve period info \n",
    "        period = info['liveData']['plays']['allPlays'][eventIdx]['about']['period']\n",
    "        # Team's side on rink\n",
    "        if info['liveData']['linescore']['periods'][period-1]['home']['rinkSide'] == 'right':\n",
    "            teams_side = team_away+' '*80+team_home\n",
    "        else:\n",
    "            teams_side = team_home+' '*80+team_away\n",
    "        # Plot if coord is not empty\n",
    "        im = plt.imread('../figures/nhl_rink.png')\n",
    "        fig, ax = plt.subplots(figsize=(20, 15))\n",
    "        # Adjust figure size to match rink dimensions\n",
    "        height_rink, width_rink = 85, 200 # NHL rink dimensions\n",
    "        ax.imshow(im, extent=[-width_rink/2, width_rink/2, -height_rink/2, height_rink/2])\n",
    "        if coord:\n",
    "            ax.scatter(coord['x'], coord['y'], s=300, c='blue')\n",
    "        plt.xlabel('feet')\n",
    "        plt.ylabel('feet')\n",
    "        plt.title(f\"{info['liveData']['plays']['allPlays'][eventIdx]['result']['description']}\\n{info['liveData']['plays']['allPlays'][eventIdx]['about']['periodTime']} P-{period}\\n {teams_side}\", fontsize=15)\n",
    "        plt.show()\n",
    "        pprint.pprint(info['liveData']['plays']['allPlays'][eventIdx])\n",
    "\n",
    "def get_match_info(info, gameId=None, round=None, rencontre=None, match=None):\n",
    "    # Retrieve SoG info\n",
    "    SoG_home, SoG_away = 0, 0\n",
    "    for p in info['liveData']['linescore']['periods']:\n",
    "        SoG_home += p['home']['shotsOnGoal']\n",
    "        SoG_away += p['away']['shotsOnGoal']\n",
    "    # Widget with Event ID\n",
    "    print(info['gameData']['datetime']['dateTime'])\n",
    "    team_away = info['gameData']['teams']['away']['abbreviation']\n",
    "    team_home = info['gameData']['teams']['home']['abbreviation']\n",
    "    if gameId is not None:\n",
    "        print(f\"Game ID: {gameId}; {team_away} (away) vs {team_home} (home) \\n\")\n",
    "    else:\n",
    "        print(f\"Playoffs rounds: {round} | rencontre: {rencontre} | match: {match}; {team_away} (away) vs {team_home} (home) \\n\")\n",
    "    table = [\n",
    "        ['', 'Home', 'Away'],\n",
    "        ['Teams: ', team_home, team_away],\n",
    "        ['Goals: ', info['liveData']['plays']['currentPlay']['about']['goals']['home'], info['liveData']['plays']['currentPlay']['about']['goals']['away']],\n",
    "        ['SoG: ', SoG_home, SoG_away],\n",
    "        ['SO Goals: ', info['liveData']['linescore']['shootoutInfo']['home']['scores'], info['liveData']['linescore']['shootoutInfo']['away']['scores']],\n",
    "        ['SO Attemps: ', info['liveData']['linescore']['shootoutInfo']['home']['attempts'], info['liveData']['linescore']['shootoutInfo']['away']['attempts']]\n",
    "    ]\n",
    "    print(tabulate(table, headers='firstrow', tablefmt='fancy_grid'))\n",
    "\n",
    "    return team_away, team_home"
   ]
  },
  {
   "cell_type": "code",
   "execution_count": 178,
   "metadata": {},
   "outputs": [
    {
     "data": {
      "application/vnd.jupyter.widget-view+json": {
       "model_id": "89d06cf488ad45e6ad3b1bc17427be0b",
       "version_major": 2,
       "version_minor": 0
      },
      "text/plain": [
       "interactive(children=(Dropdown(description='season', options=('2016_2017', '2017_2018', '2018_2019', '2019_202…"
      ]
     },
     "metadata": {},
     "output_type": "display_data"
    }
   ],
   "source": [
    "@interact\n",
    "def interactive_debugger(season=['2016_2017', '2017_2018', '2018_2019', '2019_2020', '2020_2021'], season_type=['regular', 'playoff']):\n",
    "    \"\"\"\n",
    "    season: str\n",
    "        Season to visualize. \n",
    "    season_type: str\n",
    "        Season type to visualize. Can be `reguliere` or `eliminatoire`.\n",
    "    gameId: int\n",
    "        Game number to visualize. 0 corresponds to the first game of the season.\n",
    "    eventIdx: int\n",
    "        Event number to visualize within the specified game. 0 corresponds to the first event of the game.\n",
    "    \"\"\"\n",
    "    # Get data\n",
    "    year = season.split(\"_\")[0]\n",
    "\n",
    "    # Regular season\n",
    "    if season_type == 'regular':\n",
    "        season_code = '02'\n",
    "        nb_games = len(glob.glob(f'../data/raw/{season}/{year+season_code}*'))\n",
    "\n",
    "        # Widget with Game ID\n",
    "        @interact\n",
    "        def interact_game(gameId = (0, nb_games-1, 1)):\n",
    "            # Load data\n",
    "            game_number = str(int(gameId)+1).zfill(4)\n",
    "            info = json.load(open(f'../data/raw/{season}/{year+season_code+game_number}.json'))\n",
    "            nb_events = len(info['liveData']['plays']['allPlays'])\n",
    "            # Print match stats overall\n",
    "            team_away, team_home = get_match_info(info, gameId)\n",
    "            # Call plotting function\n",
    "            plotting_coordinates(info, nb_events, team_away, team_home)\n",
    "    # Playoffs\n",
    "    else:\n",
    "        # Widget with Game ID\n",
    "        @interact\n",
    "        def interact_game(round = (1, 4, 1)): \n",
    "            @interact\n",
    "            def interact_meeting(rencontre = (1, int(0.5**round*16), 1), match = (1, 7, 1)):\n",
    "                info = json.load(open(f'../data/raw/{season}/{year+\"030\"+str(round)+str(rencontre)+str(match)}.json'))\n",
    "                nb_events = len(info['liveData']['plays']['allPlays'])\n",
    "                # Print match stats overall\n",
    "                team_away, team_home = get_match_info(info, round=round, rencontre=rencontre, match=match)\n",
    "                # Call plotting function\n",
    "                plotting_coordinates(info, nb_events, team_away, team_home)"
   ]
  }
 ],
 "metadata": {
  "kernelspec": {
   "display_name": "Python 3",
   "language": "python",
   "name": "python3"
  },
  "language_info": {
   "codemirror_mode": {
    "name": "ipython",
    "version": 3
   },
   "file_extension": ".py",
   "mimetype": "text/x-python",
   "name": "python",
   "nbconvert_exporter": "python",
   "pygments_lexer": "ipython3",
   "version": "3.9.12"
  },
  "orig_nbformat": 4
 },
 "nbformat": 4,
 "nbformat_minor": 2
}
