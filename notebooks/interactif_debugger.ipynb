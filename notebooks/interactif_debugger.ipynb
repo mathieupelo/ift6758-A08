{
 "cells": [
  {
   "cell_type": "markdown",
   "metadata": {},
   "source": [
    "# Outil de débogage interactif\n",
    "\n",
    "**Description**\n",
    "\n",
    "Ce notebook offre un outil interactif (widget) pour visualiser les évènements des matchs répertoriés par saison."
   ]
  },
  {
   "cell_type": "code",
   "execution_count": 1,
   "metadata": {},
   "outputs": [],
   "source": [
    "import ipywidgets as widgets\n",
    "from ipywidgets import interact\n",
    "import matplotlib.pyplot as plt\n",
    "import json\n",
    "import pprint"
   ]
  },
  {
   "cell_type": "code",
   "execution_count": 2,
   "metadata": {},
   "outputs": [
    {
     "data": {
      "application/vnd.jupyter.widget-view+json": {
       "model_id": "bfdd8f03267e49ffbaaaffe64a46369d",
       "version_major": 2,
       "version_minor": 0
      },
      "text/plain": [
       "interactive(children=(Dropdown(description='season', options=('2016_2017', '2017_2018', '2018_2019', '2019_202…"
      ]
     },
     "metadata": {},
     "output_type": "display_data"
    }
   ],
   "source": [
    "@interact\n",
    "def interactive_debugger(season=['2016_2017', '2017_2018', '2018_2019', '2019_2020', '2020_2021'], season_type=['regular', 'playoff']):\n",
    "    \"\"\"\n",
    "    season: str\n",
    "        Season to visualize. \n",
    "    season_type: str\n",
    "        Season type to visualize. Can be `reguliere` or `eliminatoire`.\n",
    "    gameId: int\n",
    "        Game number to visualize. 0 corresponds to the first game of the season.\n",
    "    eventIdx: int\n",
    "        Event number to visualize within the specified game. 0 corresponds to the first event of the game.\n",
    "    \"\"\"\n",
    "    # TODO :integrate `season_type` \n",
    " \n",
    "    # Get data\n",
    "    info = json.load(open(f'../ift6758/data/data_saison_{season}_play_by_play.json'))\n",
    "\n",
    "    # Widget with Game ID\n",
    "    @interact\n",
    "    def interact_game(gameId = (0, len(info)-1, 1)):\n",
    "        # Widget with Event ID\n",
    "        print(info[gameId][0]['about']['dateTime'])\n",
    "        print(f'Game ID: {gameId}; (away) vs (home)')\n",
    "        @interact\n",
    "        def interact_event(eventIdx = (0, len(info[gameId])-1, 1)):\n",
    "            # Retrieve coord for specified `event` in `game_id`\n",
    "            coord = info[gameId][eventIdx]['coordinates']\n",
    "            # Plot if coord is not empty\n",
    "            im = plt.imread('../figures/nhl_rink.png')\n",
    "            fig, ax = plt.subplots(figsize=(20, 15))\n",
    "            # Adjust figure size to match rink dimensions\n",
    "            height_rink, width_rink = 85, 200 # NHL rink dimensions\n",
    "            ax.imshow(im, extent=[-width_rink/2, width_rink/2, -height_rink/2, height_rink/2])\n",
    "            if coord:\n",
    "                ax.scatter(coord['x'], coord['y'], s=300, c='blue')\n",
    "            plt.xlabel('feet')\n",
    "            plt.ylabel('feet')\n",
    "            plt.title(f\"{info[gameId][eventIdx]['result']['description']}\\n{info[gameId][eventIdx]['about']['periodTime']} P-{info[gameId][eventIdx]['about']['period']}\", fontsize=15)\n",
    "            plt.show()\n",
    "            pprint.pprint(info[gameId][eventIdx])\n",
    "            \n"
   ]
  },
  {
   "cell_type": "code",
   "execution_count": null,
   "metadata": {},
   "outputs": [],
   "source": []
  }
 ],
 "metadata": {
  "kernelspec": {
   "display_name": "Python 3",
   "language": "python",
   "name": "python3"
  },
  "language_info": {
   "codemirror_mode": {
    "name": "ipython",
    "version": 3
   },
   "file_extension": ".py",
   "mimetype": "text/x-python",
   "name": "python",
   "nbconvert_exporter": "python",
   "pygments_lexer": "ipython3",
   "version": "3.9.12"
  },
  "orig_nbformat": 4
 },
 "nbformat": 4,
 "nbformat_minor": 2
}
